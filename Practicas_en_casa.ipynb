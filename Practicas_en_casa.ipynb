{
 "cells": [
  {
   "cell_type": "code",
   "execution_count": 1,
   "metadata": {},
   "outputs": [
    {
     "data": {
      "text/plain": [
       "'Ejercicio 11\\nEscribir un programa que reciba una cadena de caracteres y devuelva un diccionario\\ncon cada palabra que contiene y su frecuencia. Escribir otra función que reciba\\nel diccionario generado con la función anterior y\\ndevuelva una tupla con la palabra más repetida y su frecuencia.'"
      ]
     },
     "execution_count": 1,
     "metadata": {},
     "output_type": "execute_result"
    }
   ],
   "source": [
    "'''Ejercicio 11\n",
    "Escribir un programa que reciba una cadena de caracteres y devuelva un diccionario\n",
    "con cada palabra que contiene y su frecuencia. Escribir otra función que reciba\n",
    "el diccionario generado con la función anterior y\n",
    "devuelva una tupla con la palabra más repetida y su frecuencia.'''"
   ]
  },
  {
   "cell_type": "code",
   "execution_count": 16,
   "metadata": {},
   "outputs": [
    {
     "data": {
      "text/plain": [
       "{'H': 1,\n",
       " 'a': 3,\n",
       " 's': 2,\n",
       " 't': 1,\n",
       " ' ': 2,\n",
       " 'l': 1,\n",
       " 'u': 2,\n",
       " 'e': 1,\n",
       " 'g': 1,\n",
       " 'o': 1,\n",
       " 'L': 1,\n",
       " 'c': 1}"
      ]
     },
     "execution_count": 16,
     "metadata": {},
     "output_type": "execute_result"
    }
   ],
   "source": [
    "def programa1(palabra:str):\n",
    "    dict_programa1 = {}\n",
    "\n",
    "    for i in palabra:\n",
    "        dict_programa1[i]=palabra.count(i)\n",
    "    \n",
    "    return dict_programa1\n",
    "\n",
    "\n",
    "\n",
    "\n",
    "programa1('Hasta luego Lucas')"
   ]
  },
  {
   "cell_type": "code",
   "execution_count": 1,
   "metadata": {},
   "outputs": [
    {
     "ename": "NameError",
     "evalue": "name 'programa1' is not defined",
     "output_type": "error",
     "traceback": [
      "\u001b[1;31m---------------------------------------------------------------------------\u001b[0m",
      "\u001b[1;31mNameError\u001b[0m                                 Traceback (most recent call last)",
      "\u001b[1;32m~\\AppData\\Local\\Temp\\ipykernel_20004\\3689859877.py\u001b[0m in \u001b[0;36m<module>\u001b[1;34m\u001b[0m\n\u001b[1;32m----> 1\u001b[1;33m \u001b[0mdiccionario\u001b[0m \u001b[1;33m=\u001b[0m \u001b[0mprograma1\u001b[0m\u001b[1;33m(\u001b[0m\u001b[1;34m'Hasta luego Lucas'\u001b[0m\u001b[1;33m)\u001b[0m\u001b[1;33m\u001b[0m\u001b[1;33m\u001b[0m\u001b[0m\n\u001b[0m\u001b[0;32m      2\u001b[0m \u001b[1;33m\u001b[0m\u001b[0m\n\u001b[0;32m      3\u001b[0m     \u001b[1;31m# def hereda_dict(diccionario):\u001b[0m\u001b[1;33m\u001b[0m\u001b[1;33m\u001b[0m\u001b[1;33m\u001b[0m\u001b[0m\n\u001b[0;32m      4\u001b[0m     \u001b[1;31m# tupla = ()\u001b[0m\u001b[1;33m\u001b[0m\u001b[1;33m\u001b[0m\u001b[1;33m\u001b[0m\u001b[0m\n\u001b[0;32m      5\u001b[0m \u001b[1;33m\u001b[0m\u001b[0m\n",
      "\u001b[1;31mNameError\u001b[0m: name 'programa1' is not defined"
     ]
    }
   ],
   "source": [
    "\n",
    "diccionario = programa1('Hasta luego Lucas')\n",
    "\n",
    "    # def hereda_dict(diccionario):\n",
    "    # tupla = ()\n",
    "\n",
    "num_rep = max(diccionario.values())\n",
    "print(num_rep)\n",
    "\n",
    "for i,j in diccionario.items():\n",
    "    if j == num_rep:\n",
    "        tupla=(i,num_rep)\n",
    "        print(tupla)\n"
   ]
  },
  {
   "cell_type": "code",
   "execution_count": 13,
   "metadata": {},
   "outputs": [
    {
     "data": {
      "text/plain": [
       "'olita soy andre'"
      ]
     },
     "execution_count": 13,
     "metadata": {},
     "output_type": "execute_result"
    }
   ],
   "source": [
    "s='Holita soy andrea'\n",
    "\n",
    "def remove_char(s):\n",
    "    new=s[1:][:-1]\n",
    "    return new\n",
    "        \n",
    "        \n",
    "\n",
    "remove_char(s)\n"
   ]
  },
  {
   "cell_type": "code",
   "execution_count": 7,
   "metadata": {},
   "outputs": [
    {
     "name": "stdout",
     "output_type": "stream",
     "text": [
      "El contenedor está por el  9.0 %\n",
      "El contenedor está por el  8.1 %\n",
      "El contenedor está por el  7.29 %\n",
      "El contenedor está por el  6.561 %\n",
      "El contenedor está por el  5.9049000000000005 %\n",
      "El contenedor está por el  5.3144100000000005 %\n",
      "El contenedor está por el  4.7829690000000005 %\n",
      "El contenedor está por el  4.3046721 %\n",
      "El contenedor está por el  3.8742048900000006 %\n",
      "El contenedor está por el  3.4867844010000004 %\n",
      "El contenedor está por el  3.1381059609000004 %\n",
      "El contenedor está por el  2.82429536481 %\n",
      "El contenedor está por el  2.541865828329 %\n",
      "El contenedor está por el  2.2876792454961 %\n",
      "El contenedor está por el  2.05891132094649 %\n",
      "El contenedor está por el  1.853020188851841 %\n",
      "El contenedor está por el  1.6677181699666568 %\n",
      "El contenedor está por el  1.5009463529699911 %\n",
      "El contenedor está por el  1.350851717672992 %\n",
      "El contenedor está por el  1.2157665459056928 %\n",
      "El contenedor está por el  1.0941898913151236 %\n",
      "El contenedor está por el  0.9847709021836112 %\n",
      "El contenedor está por el  0.88629381196525 %\n",
      "El contenedor está por el  0.7976644307687251 %\n",
      "El contenedor está por el  0.7178979876918525 %\n",
      "El contenedor está por el  0.6461081889226673 %\n",
      "El contenedor está por el  0.5814973700304006 %\n",
      "El contenedor está por el  0.5233476330273605 %\n",
      "El contenedor está por el  0.47101286972462447 %\n",
      "El contenedor está por debajo del límite\n"
     ]
    }
   ],
   "source": [
    "def evaporator(content, evap_per_day, threshold):\n",
    "    threshold=round(content*(threshold/100),2)\n",
    "\n",
    "    while content>threshold:\n",
    "        content=content*(1-evap_per_day/100)\n",
    "        print('El contenedor está por el ', content, '%')\n",
    "        \n",
    "    else:\n",
    "        print('El contenedor está por debajo del límite')\n",
    "\n",
    "evaporator(10,10,5)\n",
    "    "
   ]
  },
  {
   "cell_type": "code",
   "execution_count": 10,
   "metadata": {},
   "outputs": [
    {
     "name": "stdout",
     "output_type": "stream",
     "text": [
      "El contenedor está por el  9.0 %\n",
      "El contenedor está por el  8.1 %\n",
      "El contenedor está por el  7.29 %\n",
      "El contenedor está por el  6.561 %\n",
      "El contenedor está por el  5.9049000000000005 %\n",
      "El contenedor está por el  5.3144100000000005 %\n",
      "El contenedor está por el  4.7829690000000005 %\n",
      "El contenedor está por el  4.3046721 %\n",
      "El contenedor está por el  3.8742048900000006 %\n",
      "El contenedor está por el  3.4867844010000004 %\n",
      "El contenedor está por el  3.1381059609000004 %\n",
      "El contenedor está por el  2.82429536481 %\n",
      "El contenedor está por el  2.541865828329 %\n",
      "El contenedor está por el  2.2876792454961 %\n",
      "El contenedor está por el  2.05891132094649 %\n",
      "El contenedor está por el  1.853020188851841 %\n",
      "El contenedor está por el  1.6677181699666568 %\n",
      "El contenedor está por el  1.5009463529699911 %\n",
      "El contenedor está por el  1.350851717672992 %\n",
      "El contenedor está por el  1.2157665459056928 %\n",
      "El contenedor está por el  1.0941898913151236 %\n",
      "El contenedor está por el  0.9847709021836112 %\n",
      "El contenedor está por el  0.88629381196525 %\n",
      "El contenedor está por el  0.7976644307687251 %\n",
      "El contenedor está por el  0.7178979876918525 %\n",
      "El contenedor está por el  0.6461081889226673 %\n",
      "El contenedor está por el  0.5814973700304006 %\n",
      "El contenedor está por el  0.5233476330273605 %\n",
      "El contenedor está por el  0.47101286972462447 %\n",
      "El contenedor está por debajo del límite\n"
     ]
    },
    {
     "data": {
      "text/plain": [
       "29"
      ]
     },
     "execution_count": 10,
     "metadata": {},
     "output_type": "execute_result"
    }
   ],
   "source": [
    "# CODEWARS\n",
    "\n",
    "def evaporator(content, evap_per_day, threshold):\n",
    "\n",
    "    threshold=round(content*(threshold/100),2)\n",
    "    day=0\n",
    "\n",
    "    while content>threshold:\n",
    "        content=content*(1-evap_per_day/100)\n",
    "        day=day+1\n",
    "        print('El contenedor está por el ', content, '%')\n",
    "        \n",
    "    else:\n",
    "        print('El contenedor está por debajo del límite')\n",
    "        \n",
    "    return day\n",
    "\n",
    "evaporator(10,10,5)"
   ]
  },
  {
   "cell_type": "code",
   "execution_count": 39,
   "metadata": {},
   "outputs": [
    {
     "name": "stdout",
     "output_type": "stream",
     "text": [
      "Let's fight again!\n",
      "0\n",
      "0\n"
     ]
    }
   ],
   "source": [
    "# CODEWARS\n",
    "\n",
    "# def alphabet_war(fight):\n",
    "\n",
    "dict_letras_right = {\"z\":1,\"d\":2,\"q\":3,\"m\":4}\n",
    "dict_letras_left = {\"s\":1,\"b\":2,\"p\":3,\"w\":4}\n",
    "\n",
    "string = 'aaa'.lower()\n",
    "puntos_lado_right=0\n",
    "puntos_lado_left=0\n",
    "\n",
    "# while puntos_lado_left == puntos_lado_right:\n",
    "for i in string:\n",
    "    if i in dict_letras_right.keys():\n",
    "        puntos_lado_right = puntos_lado_right + dict_letras_right[i]\n",
    "    elif i in dict_letras_left.keys():\n",
    "        puntos_lado_left = puntos_lado_left + dict_letras_left[i]\n",
    "    else:\n",
    "        continue\n",
    "\n",
    "if puntos_lado_left>puntos_lado_right:\n",
    "    print('Left side wins!')\n",
    "\n",
    "elif puntos_lado_right>puntos_lado_left:\n",
    "    print('Right side wins!')\n",
    "\n",
    "else:\n",
    "    print(\"Let's fight again!\")\n",
    "\n",
    "\n",
    "\n",
    "print(puntos_lado_right)\n",
    "print(puntos_lado_left)\n",
    "\n",
    "        \n",
    "        "
   ]
  },
  {
   "cell_type": "code",
   "execution_count": 58,
   "metadata": {},
   "outputs": [
    {
     "name": "stdout",
     "output_type": "stream",
     "text": [
      "adak adak adak adak adak adak adak adak adak adak adak adak adak adak adak adak adak adak adak adak adak adak adak adak adak adak adak adak adak adak adak adak adak adak adak adak adak adak adak adak adak adak adak adak adak adak adak adak adak adak adak adak adak adak adak adak adak adak adak adak adak adak adak adak adak adak adak adak adak adak adak adak adak adak adak adak adak adak adak adak adak adak adak adak adak adak adak adak adak adak adak adak adak adak adak adak adak adak adak adak adak adak adak adak adak adak adak adak adak adak adak adak adak adak adak adak adak adak adak adak adak adak adak adak adak adak adak adak adak adak adak adak adak adak adak adak adak adak adak adak adak adak adak adak adak adak adak adak adak adak adak adak adak adak adak adak adak adak adak adak adak adak adak adak adak adak adak adak adak adak adak adak adak adak adak adak adak adak adak adak adak adak adak adak adak adak adak adak adak adak adak adak adak adak adak adak adak adak adak adak adak adak adak adak adak adak adak adak adak adak adak adak adak adak adak adak adak adak adak adak adak adak adak adak adak \n"
     ]
    }
   ],
   "source": [
    "# CODEWARS\n",
    "\n",
    "n=450\n",
    "\n",
    "if n == 2:\n",
    "    print('adak')\n",
    "if n%2 == 0:\n",
    "   print(int(n/2)*'adak ')\n",
    "if n%2 != 0:\n",
    "    print((int(n/2)*'adak ' + 'anane'))\n"
   ]
  },
  {
   "cell_type": "code",
   "execution_count": 1,
   "metadata": {},
   "outputs": [
    {
     "data": {
      "text/plain": [
       "225"
      ]
     },
     "execution_count": 1,
     "metadata": {},
     "output_type": "execute_result"
    }
   ],
   "source": [
    "31*8-(31-8)"
   ]
  },
  {
   "cell_type": "code",
   "execution_count": 39,
   "metadata": {},
   "outputs": [
    {
     "name": "stdout",
     "output_type": "stream",
     "text": [
      "00100000\n",
      "11111111\n",
      "11111111\n",
      "011\n",
      "111\n",
      "11111111000111\n",
      "111111110001110\n",
      "Han ganado los humanos\n",
      "11\n",
      "19\n",
      "57.89473684210527\n"
     ]
    }
   ],
   "source": [
    "# CODEWARS PANDEMIA\n",
    "\n",
    "s = \"00100000X000X011X0X\"\n",
    "new_s = ''\n",
    "\n",
    "# '0' : 'uninfected'\n",
    "\n",
    "# '1' : 'infected'\n",
    "\n",
    "# 'X' : 'ocean'\n",
    "\n",
    "  \n",
    "\n",
    "for i in s.split('X'):\n",
    "    if '1' in i:\n",
    "        print(i)\n",
    "        new_i = i.replace('0','1')\n",
    "        print(new_i)\n",
    "        new_s = new_s + new_i\n",
    "        print(new_s)\n",
    "    else:\n",
    "        new_s = new_s + i\n",
    "\n",
    "print(new_s) \n",
    "\n",
    "if s.count('0')<new_s.count('0'):\n",
    "    print('Han ganado los infectados')\n",
    "else:\n",
    "    print('Han ganado los humanos')\n",
    "\n",
    "\n",
    "\n",
    "print(new_s.count('1'))\n",
    "print(len(s))\n",
    "print((new_s.count('1')/len(s))*100)\n"
   ]
  },
  {
   "cell_type": "code",
   "execution_count": 51,
   "metadata": {},
   "outputs": [
    {
     "name": "stdout",
     "output_type": "stream",
     "text": [
      "01000000\n",
      "11111111\n",
      "11111111\n",
      "011\n",
      "111\n",
      "11111111000111\n"
     ]
    },
    {
     "data": {
      "text/plain": [
       "73.33333333333333"
      ]
     },
     "execution_count": 51,
     "metadata": {},
     "output_type": "execute_result"
    }
   ],
   "source": [
    "# CODEWARS PANDEMIA\n",
    "\n",
    "def infected(s):\n",
    "    new_s = ''\n",
    "    \n",
    "    try:\n",
    "        for i in s.split('X'):\n",
    "            if '1' in i:\n",
    "                print(i)\n",
    "                new_i = i.replace('0','1')\n",
    "                print(new_i)\n",
    "                new_s = new_s + new_i\n",
    "                print(new_s)\n",
    "            else:\n",
    "                new_s = new_s + i\n",
    "                \n",
    "        return new_s.count('1')/len(new_s)*100\n",
    "    except:\n",
    "        return 0\n",
    "\n",
    "\n",
    "infected('01000000X000X011X0X')"
   ]
  },
  {
   "cell_type": "code",
   "execution_count": 79,
   "metadata": {},
   "outputs": [
    {
     "name": "stdout",
     "output_type": "stream",
     "text": [
      "[8000.0]\n",
      "[8000.0, 152000.0]\n",
      "[8000.0, 152000.0, 1600.0]\n",
      "[8000.0, 152000.0, 1600.0, 8000.0]\n",
      "(['alien', 'predator', 'terminator', 'zombieland'], 152000.0)\n"
     ]
    }
   ],
   "source": [
    "# CODEWARS COMPUTER PROBLEMS 2\n",
    "\n",
    "file_1 = {\"name\": \"alien\", \"size_GB\": 38, \"speed_Mbps\": 38}\n",
    "file_2 = {\"name\": \"predator\", \"size_GB\": 38, \"speed_Mbps\": 2}\n",
    "file_3 = {\"name\": \"terminator\", \"size_GB\": 5, \"speed_Mbps\": 25}\n",
    "file_4 = {\"name\": \"zombieland\", \"size_GB\": 38, \"speed_Mbps\": 38}\n",
    "\n",
    "tiempo = []\n",
    "list_of_files = list([file_1,file_2,file_3,file_4])\n",
    "list_results = []\n",
    "\n",
    "# megas = file_1['size_GB']*1000\n",
    "# vel = file_1['speed_Mbps']\n",
    "# segundos = megas / vel\n",
    "# print(segundos)\n",
    "\n",
    "for i in list_of_files:\n",
    "    \n",
    "    seg = i['size_GB']*1000*8/i['speed_Mbps']\n",
    "    tiempo.append(seg)\n",
    "    list_results.append(i['name'])\n",
    "    \n",
    "    print(tiempo)\n",
    "\n",
    "\n",
    "list_final = list_results, max(tiempo)\n",
    "print(list_final)\n",
    "\n",
    "\n"
   ]
  },
  {
   "cell_type": "code",
   "execution_count": 126,
   "metadata": {},
   "outputs": [
    {
     "name": "stdout",
     "output_type": "stream",
     "text": [
      "[8000.0]\n",
      "{'alien': 8000.0}\n",
      "[8000.0, 152000.0]\n",
      "{'alien': 8000.0, 'predator': 152000.0}\n",
      "[8000.0, 152000.0, 1600.0]\n",
      "{'alien': 8000.0, 'predator': 152000.0, 'terminator': 1600.0}\n",
      "[8000.0, 152000.0, 1600.0, 1600.0]\n",
      "{'alien': 8000.0, 'predator': 152000.0, 'terminator': 1600.0, 'zombieland': 1600.0}\n",
      "[8000.0, 152000.0, 1600.0, 1600.0, 1600.0]\n",
      "{'alien': 8000.0, 'predator': 152000.0, 'terminator': 1600.0, 'zombieland': 1600.0, 'starwars': 1600.0}\n",
      "[8000.0, 152000.0, 1600.0, 1600.0, 1600.0, 8000.0]\n",
      "{'alien': 8000.0, 'predator': 152000.0, 'terminator': 1600.0, 'zombieland': 1600.0, 'starwars': 1600.0, 'lordoftherings': 8000.0}\n",
      "(['terminator', 'alien', 'lordoftherings', 'zombieland', 'predator', 'starwars'], 152000.0)\n"
     ]
    }
   ],
   "source": [
    "# CODEWARS COMPUTER PROBLEMS 2\n",
    "\n",
    "file_1 = {\"name\": \"alien\", \"size_GB\": 38, \"speed_Mbps\": 38}\n",
    "file_2 = {\"name\": \"predator\", \"size_GB\": 38, \"speed_Mbps\": 2}\n",
    "file_3 = {\"name\": \"terminator\", \"size_GB\": 5, \"speed_Mbps\": 25}\n",
    "file_4 = {\"name\": \"zombieland\", \"size_GB\": 5, \"speed_Mbps\": 25}\n",
    "file_5 = {\"name\": \"starwars\", \"size_GB\": 5, \"speed_Mbps\": 25}\n",
    "file_6 = {\"name\": \"lordoftherings\", \"size_GB\": 38, \"speed_Mbps\": 38}\n",
    "\n",
    "\n",
    "tiempo = []\n",
    "list_of_files = list([file_1,file_2,file_3,file_4,file_5,file_6])\n",
    "# list_results = []\n",
    "dict_vacio = {}\n",
    "\n",
    "# megas = file_1['size_GB']*1000\n",
    "# vel = file_1['speed_Mbps']\n",
    "# segundos = megas / vel\n",
    "# print(segundos)\n",
    "\n",
    "for i in list_of_files:\n",
    "    \n",
    "    seg = i['size_GB']*1000*8/i['speed_Mbps']\n",
    "    tiempo.append(seg)\n",
    "    # list_results.append(i['name'])\n",
    "    dict_vacio[i['name']]=seg\n",
    "    print(tiempo)\n",
    "    print(dict_vacio)\n",
    "\n",
    "\n",
    "# print(sorted(tiempo))\n",
    "sortedDict = sorted(dict_vacio.keys(), key=operator.itemgetter(1,0))\n",
    "\n",
    "list_final = sortedDict, max(tiempo)\n",
    "print(list_final)"
   ]
  },
  {
   "cell_type": "code",
   "execution_count": 122,
   "metadata": {},
   "outputs": [
    {
     "data": {
      "text/plain": [
       "['terminator', 'alien', 'zombieland', 'lordoftherings', 'predator', 'starwars']"
      ]
     },
     "execution_count": 122,
     "metadata": {},
     "output_type": "execute_result"
    }
   ],
   "source": [
    "sortedDict2 = sorted(dict_vacio.keys(), key=operator.itemgetter(1))\n",
    "sortedDict2"
   ]
  },
  {
   "cell_type": "code",
   "execution_count": 124,
   "metadata": {},
   "outputs": [
    {
     "data": {
      "text/plain": [
       "[('starwars', 1600.0),\n",
       " ('terminator', 1600.0),\n",
       " ('zombieland', 1600.0),\n",
       " ('alien', 8000.0),\n",
       " ('lordoftherings', 8000.0),\n",
       " ('predator', 152000.0)]"
      ]
     },
     "execution_count": 124,
     "metadata": {},
     "output_type": "execute_result"
    }
   ],
   "source": [
    "import operator\n",
    "\n",
    "sortedDict = sorted(dict_vacio.items(), key=operator.itemgetter(1,0))\n",
    "sortedDict"
   ]
  },
  {
   "cell_type": "code",
   "execution_count": null,
   "metadata": {},
   "outputs": [],
   "source": [
    "# RESULTADO A FALTA DE CORREGIR\n",
    "def torrent(files): \n",
    "    import operator\n",
    "    tiempo = []\n",
    "    dict_vacio = {}\n",
    "\n",
    "\n",
    "    for i in files:\n",
    "\n",
    "        seg = i['size_GB']*1000*8/i['speed_Mbps']\n",
    "        tiempo.append(seg)\n",
    "        dict_vacio[i['name']]=seg\n",
    "\n",
    "    sortedDict = sorted(dict_vacio.keys(), key=operator.itemgetter(1,0))\n",
    "    list_final = sortedDict, max(tiempo)\n",
    "\n",
    "    return list_final"
   ]
  }
 ],
 "metadata": {
  "kernelspec": {
   "display_name": "Python 3.7.4 64-bit",
   "language": "python",
   "name": "python3"
  },
  "language_info": {
   "codemirror_mode": {
    "name": "ipython",
    "version": 3
   },
   "file_extension": ".py",
   "mimetype": "text/x-python",
   "name": "python",
   "nbconvert_exporter": "python",
   "pygments_lexer": "ipython3",
   "version": "3.7.4"
  },
  "orig_nbformat": 4,
  "vscode": {
   "interpreter": {
    "hash": "bed665d392a0b16c59368a0492a31cfeef380a776e0741f5d7e9c0d91554052a"
   }
  }
 },
 "nbformat": 4,
 "nbformat_minor": 2
}
